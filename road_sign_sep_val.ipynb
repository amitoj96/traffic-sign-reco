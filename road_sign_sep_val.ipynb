{
 "cells": [
  {
   "cell_type": "code",
   "execution_count": 1,
   "metadata": {
    "collapsed": true
   },
   "outputs": [],
   "source": [
    "import os"
   ]
  },
  {
   "cell_type": "code",
   "execution_count": 2,
   "metadata": {
    "collapsed": true
   },
   "outputs": [],
   "source": [
    "path = 'data/train'"
   ]
  },
  {
   "cell_type": "code",
   "execution_count": 3,
   "metadata": {
    "collapsed": true
   },
   "outputs": [],
   "source": [
    "val_path='data/valid'"
   ]
  },
  {
   "cell_type": "code",
   "execution_count": 4,
   "metadata": {
    "collapsed": true
   },
   "outputs": [],
   "source": [
    "import shutil"
   ]
  },
  {
   "cell_type": "code",
   "execution_count": 8,
   "metadata": {
    "collapsed": true
   },
   "outputs": [],
   "source": [
    "def sampling(rootpath_train,rootpath_val):\n",
    "    for c in range(0,43):\n",
    "        prefix = rootpath_train + '/' + format(c, '05d') + '/'\n",
    "        prefix_val =  rootpath_val + '/' + format(c, '05d') + '/'\n",
    "        os.makedirs(prefix_val)\n",
    "        for filename in os.listdir(prefix):\n",
    "            if filename.endswith('05.png') or filename.endswith('13.png') or filename.endswith('21.png') or filename.endswith('27.png'):\n",
    "                #n=n+1\n",
    "                shutil.copy(prefix+filename,prefix_val+filename)\n",
    "                #k.append(prefix+filename)\n",
    "                os.remove(prefix+filename)\n",
    "                #print(prefix+filename)\n",
    "            else:\n",
    "                continue\n",
    "        #k.append(n)"
   ]
  },
  {
   "cell_type": "code",
   "execution_count": 9,
   "metadata": {
    "collapsed": false
   },
   "outputs": [],
   "source": [
    "sampling(path,val_path)"
   ]
  },
  {
   "cell_type": "code",
   "execution_count": null,
   "metadata": {
    "collapsed": true
   },
   "outputs": [],
   "source": []
  }
 ],
 "metadata": {
  "kernelspec": {
   "display_name": "Python 2",
   "language": "python",
   "name": "python2"
  },
  "language_info": {
   "codemirror_mode": {
    "name": "ipython",
    "version": 2
   },
   "file_extension": ".py",
   "mimetype": "text/x-python",
   "name": "python",
   "nbconvert_exporter": "python",
   "pygments_lexer": "ipython2",
   "version": "2.7.13"
  }
 },
 "nbformat": 4,
 "nbformat_minor": 2
}
